{
 "cells": [
  {
   "cell_type": "code",
   "execution_count": 1,
   "metadata": {},
   "outputs": [],
   "source": [
    "import os\n",
    "import glob\n",
    "import pandas as pd\n",
    "import numpy as np\n",
    "import xml.etree.ElementTree as ET\n",
    "import shutil\n",
    "import cv2"
   ]
  },
  {
   "cell_type": "code",
   "execution_count": 2,
   "metadata": {},
   "outputs": [],
   "source": [
    "home_path = os.getcwd()\n",
    "image_path = os.path.join(home_path,'images')\n",
    "data_path = os.path.join(home_path,'data')"
   ]
  },
  {
   "cell_type": "markdown",
   "metadata": {},
   "source": [
    "# Step 1: convert xml files to csv"
   ]
  },
  {
   "cell_type": "code",
   "execution_count": 4,
   "metadata": {},
   "outputs": [],
   "source": [
    "def xml_to_csv(path):\n",
    "    xml_list = []\n",
    "    for xml_file in glob.glob(path + '/*.xml'):\n",
    "        filename = xml_file.split(\"/\")[-1]\n",
    "        filename = \".\".join(filename.split(\".\")[:-1])\n",
    "        filename = filename + '.jpg'\n",
    "        tree = ET.parse(xml_file)\n",
    "        root = tree.getroot()\n",
    "        for member in root.findall('object'):\n",
    "            name = member[0].text\n",
    "            if(name == 'cars' or name == 'caar'):\n",
    "                name = 'car'\n",
    "            elif(name == 'ayto' or name =='autor' or name == 'autoclave'):\n",
    "                name = 'auto'\n",
    "            elif(name == 'moto' or name == 'motor' or name == 'motorbikes' or name == 'motorbike cart' or name == 'motobike'):\n",
    "                name = 'motorbike'\n",
    "            elif(name == 'vehicle' or name == 'trucck' or name == 'truk'):\n",
    "                name = 'truck'\n",
    "            elif(name == 'truck crane' or name == 'tractor'):\n",
    "                name = 'tractor'\n",
    "            value = (filename,\n",
    "            int(root.find('size')[0].text),\n",
    "            int(root.find('size')[1].text),\n",
    "            name,\n",
    "            int(member[4][0].text),\n",
    "            int(member[4][1].text),\n",
    "            int(member[4][2].text),\n",
    "            int(member[4][3].text)\n",
    "            )\n",
    "            if value[3] in ['car','truck','bus','tractor','motorbike','auto','animal','person']:\n",
    "                xml_list.append(value)\n",
    "\n",
    "    column_name = ['filename', 'width', 'height', 'class', 'xmin', 'ymin', 'xmax', 'ymax']\n",
    "    xml_df = pd.DataFrame(xml_list, columns=column_name)\n",
    "    return xml_df"
   ]
  },
  {
   "cell_type": "code",
   "execution_count": 7,
   "metadata": {},
   "outputs": [
    {
     "name": "stdout",
     "output_type": "stream",
     "text": [
      "Successfully converted xml to csv.\n",
      "<class 'pandas.core.frame.DataFrame'>\n",
      "RangeIndex: 12664 entries, 0 to 12663\n",
      "Data columns (total 8 columns):\n",
      "filename    12664 non-null object\n",
      "width       12664 non-null int64\n",
      "height      12664 non-null int64\n",
      "class       12664 non-null object\n",
      "xmin        12664 non-null int64\n",
      "ymin        12664 non-null int64\n",
      "xmax        12664 non-null int64\n",
      "ymax        12664 non-null int64\n",
      "dtypes: int64(6), object(2)\n",
      "memory usage: 791.6+ KB\n",
      "None\n"
     ]
    }
   ],
   "source": [
    "xml_df = xml_to_csv(image_path)\n",
    "xml_df.to_csv(data_path+'/labels.csv', index=None)\n",
    "print('Successfully converted xml to csv.')\n",
    "print(xml_df.info())"
   ]
  },
  {
   "cell_type": "markdown",
   "metadata": {},
   "source": [
    "# Step 2: add gamma corrected images"
   ]
  },
  {
   "cell_type": "code",
   "execution_count": 12,
   "metadata": {},
   "outputs": [],
   "source": [
    "def adjust_gamma(image , gamma = 1.0):\n",
    "    invgamma = 1 / gamma\n",
    "    table = np.array([ ((i / 255.0 )**invgamma)*255 for i in np.arange(0,256)]).astype(\"uint8\")\n",
    "    return cv2.LUT(image, table)\n",
    "\n",
    "def get_image(input_img, xml):\n",
    "    img = os.path.join(image_path,input_img)\n",
    "    filename = img.split(\"/\")[-1]\n",
    "    filename = filename.split(\".\")[0]\n",
    "    xml_path = os.path.join(image_path, xml)\n",
    "    original = cv2.imread(img,1)\n",
    "    gamma_decrease = round(np.random.random()*0.2 + 0.3, 1)\n",
    "    gamma_increase = round(np.random.random() + 2.5, 1)\n",
    "    for gamma in [gamma_decrease, gamma_increase]:\n",
    "        if gamma < 1:\n",
    "            direction = 'down'\n",
    "        else:\n",
    "            direction = 'up'\n",
    "        adjusted = adjust_gamma(original, gamma=gamma)\n",
    "        #cv2.putText(adjusted, \"g={}\".format(round(gamma,1)), (10, 30), cv2.FONT_HERSHEY_SIMPLEX, 0.8, (0, 0, 255), 3)\n",
    "        cv2.imwrite('{}/{}_gamma_{}.jpg'.format(image_path,filename,direction), adjusted)\n",
    "    return"
   ]
  },
  {
   "cell_type": "code",
   "execution_count": 13,
   "metadata": {},
   "outputs": [],
   "source": [
    "files = os.listdir(image_path)\n",
    "images = [img.split(\".\")[0] for img in files if img[-3:] == 'jpg']\n",
    "length = len(images)\n",
    "file_pair = [(img+\".jpg\",img+\".xml\") for img in images]\n",
    "for pair in file_pair:\n",
    "    get_image(pair[0],pair[1])"
   ]
  },
  {
   "cell_type": "markdown",
   "metadata": {},
   "source": [
    "# Step 3: create gamma file data and add to csv"
   ]
  },
  {
   "cell_type": "code",
   "execution_count": 13,
   "metadata": {},
   "outputs": [],
   "source": [
    "def gamma_to_csv(csv):\n",
    "    df = pd.read_csv(csv)\n",
    "    down_df = df.copy()\n",
    "    up_df = df.copy()\n",
    "    down_df['filename'] = down_df['filename'].apply(lambda f: '{}_gamma_down.jpg'.format(f.split(\".\")[0]))\n",
    "    up_df['filename'] = up_df['filename'].apply(lambda f: '{}_gamma_up.jpg'.format(f.split(\".\")[0]))\n",
    "    gamma_df = pd.concat([df, down_df, up_df])\n",
    "    gamma_df.to_csv(\"data/gamma_labels.csv\",index=False)\n",
    "    return gamma_df"
   ]
  },
  {
   "cell_type": "code",
   "execution_count": 14,
   "metadata": {},
   "outputs": [
    {
     "name": "stdout",
     "output_type": "stream",
     "text": [
      "<class 'pandas.core.frame.DataFrame'>\n",
      "Int64Index: 37992 entries, 0 to 12663\n",
      "Data columns (total 8 columns):\n",
      "filename    37992 non-null object\n",
      "width       37992 non-null int64\n",
      "height      37992 non-null int64\n",
      "class       37992 non-null object\n",
      "xmin        37992 non-null int64\n",
      "ymin        37992 non-null int64\n",
      "xmax        37992 non-null int64\n",
      "ymax        37992 non-null int64\n",
      "dtypes: int64(6), object(2)\n",
      "memory usage: 2.6+ MB\n"
     ]
    }
   ],
   "source": [
    "gamma_df = gamma_to_csv(os.path.join(data_path,'labels.csv'))\n",
    "gamma_df.info()"
   ]
  },
  {
   "cell_type": "markdown",
   "metadata": {},
   "source": [
    "# Step 4: create images with horizontal flip"
   ]
  },
  {
   "cell_type": "code",
   "execution_count": 17,
   "metadata": {},
   "outputs": [],
   "source": [
    "def images_flip_horizontal():\n",
    "    files = os.listdir('images')\n",
    "    files = [f for f in files if f[-3:] == 'jpg']\n",
    "    for image in files:\n",
    "        img = cv2.imread(\"images/{}\".format(image),1)\n",
    "        hflip = cv2.flip(img,1)\n",
    "        cv2.imwrite('images/{}_flip.jpg'.format(image.split(\".\")[0]),hflip)\n",
    "    return"
   ]
  },
  {
   "cell_type": "code",
   "execution_count": 18,
   "metadata": {},
   "outputs": [],
   "source": [
    "images_flip_horizontal()"
   ]
  },
  {
   "cell_type": "markdown",
   "metadata": {},
   "source": [
    "# Step 5: create labels for flipped images and add to csv"
   ]
  },
  {
   "cell_type": "code",
   "execution_count": 49,
   "metadata": {},
   "outputs": [],
   "source": [
    "def horizontal_csv(csv):\n",
    "    image_data = pd.read_csv(csv)\n",
    "    hflip = image_data.copy()\n",
    "\n",
    "    hflip['filename'] = hflip['filename'].apply(lambda f: \"{}_flip.jpg\".format(f.split(\".\")[0]))\n",
    "\n",
    "    new_xmin = hflip['xmax'].apply(lambda x: 640 - x)\n",
    "    new_xmax = hflip['xmin'].apply(lambda x: 640 - x)\n",
    "\n",
    "    hflip['xmin'] = new_xmin\n",
    "    hflip['xmax'] = new_xmax\n",
    "\n",
    "    hflip.to_csv('data/flipped_data.csv',index=False)\n",
    "    all_data = pd.concat([image_data,hflip])\n",
    "    all_data.to_csv(\"data/all_data.csv\",index=False)\n",
    "\n",
    "    return hflip,all_data"
   ]
  },
  {
   "cell_type": "code",
   "execution_count": 50,
   "metadata": {},
   "outputs": [],
   "source": [
    "hflip,all_data = horizontal_csv('data/gamma_labels.csv')"
   ]
  },
  {
   "cell_type": "markdown",
   "metadata": {},
   "source": [
    "# Step 6: train/test split"
   ]
  },
  {
   "cell_type": "code",
   "execution_count": 89,
   "metadata": {},
   "outputs": [],
   "source": [
    "def train_test_split(data_csv):\n",
    "    df = pd.read_csv(data_csv)\n",
    "    all_files = [f for f in os.listdir(image_path) if f[-3:] == 'jpg']\n",
    "    split_loc = int(len(all_files) * .9)\n",
    "    randomize = np.random.permutation(all_files)\n",
    "    \n",
    "    os.mkdir(os.path.join(image_path,'train'))\n",
    "    os.mkdir(os.path.join(image_path,'test'))\n",
    "\n",
    "    for filename in all_files[:split_loc]:\n",
    "        shutil.copy(os.path.join(image_path,filename), \n",
    "                    os.path.join(image_path,'train',filename))\n",
    "    for filename in all_files[split_loc:]:\n",
    "        shutil.copy(os.path.join(image_path,filename), \n",
    "                    os.path.join(image_path,'test',filename))\n",
    "        \n",
    "    train_files = os.listdir(os.path.join(image_path,'train'))\n",
    "    test_files = os.listdir(os.path.join(image_path,'test'))\n",
    "\n",
    "    train = df[df['filename'].isin(train_files)]\n",
    "    test = df[df['filename'].isin(test_files)]\n",
    "    train.to_csv(\"data/train_labels.csv\",index=False)\n",
    "    test.to_csv(\"data/test_labels.csv\",index=False)\n",
    "    return train, test"
   ]
  },
  {
   "cell_type": "code",
   "execution_count": 90,
   "metadata": {},
   "outputs": [],
   "source": [
    "train,test = train_test_split('data/all_data.csv')"
   ]
  },
  {
   "cell_type": "markdown",
   "metadata": {},
   "source": [
    "# Step 7: generate TFRecords\n",
    "### run generate_tfrecord.py script from command line using commands below\n",
    "python generate_tfrecord.py --csv_input=data/train_labels.csv --output_path=data/train.record<br>\n",
    "python generate_tfrecord.py --csv_input=data/test_labels.csv  --output_path=data/test.record\n"
   ]
  },
  {
   "cell_type": "code",
   "execution_count": null,
   "metadata": {},
   "outputs": [],
   "source": []
  }
 ],
 "metadata": {
  "kernelspec": {
   "display_name": "Python (tensorflow)",
   "language": "python",
   "name": "tensorflow"
  },
  "language_info": {
   "codemirror_mode": {
    "name": "ipython",
    "version": 3
   },
   "file_extension": ".py",
   "mimetype": "text/x-python",
   "name": "python",
   "nbconvert_exporter": "python",
   "pygments_lexer": "ipython3",
   "version": "3.5.4"
  }
 },
 "nbformat": 4,
 "nbformat_minor": 2
}
